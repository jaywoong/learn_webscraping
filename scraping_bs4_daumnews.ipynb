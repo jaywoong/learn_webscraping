{
 "cells": [
  {
   "cell_type": "code",
   "execution_count": 1,
   "id": "cc531a58",
   "metadata": {},
   "outputs": [],
   "source": [
    "import requests"
   ]
  },
  {
   "cell_type": "code",
   "execution_count": 8,
   "id": "0aea0f50",
   "metadata": {},
   "outputs": [],
   "source": [
    "path = 'https://news.daum.net/economic/'\n",
    "req = requests.get('https://news.daum.net/economic/')"
   ]
  },
  {
   "cell_type": "code",
   "execution_count": 9,
   "id": "b92db501",
   "metadata": {},
   "outputs": [
    {
     "data": {
      "text/plain": [
       "200"
      ]
     },
     "execution_count": 9,
     "metadata": {},
     "output_type": "execute_result"
    }
   ],
   "source": [
    "req.status_code"
   ]
  },
  {
   "cell_type": "code",
   "execution_count": 10,
   "id": "32f8e811",
   "metadata": {},
   "outputs": [],
   "source": [
    "from bs4 import BeautifulSoup as bs"
   ]
  },
  {
   "cell_type": "code",
   "execution_count": 14,
   "id": "39b7e776",
   "metadata": {},
   "outputs": [],
   "source": [
    "soup = bs(req.content, 'html.parser')"
   ]
  },
  {
   "cell_type": "code",
   "execution_count": 16,
   "id": "f8d7a082",
   "metadata": {},
   "outputs": [
    {
     "data": {
      "text/plain": [
       "bs4.BeautifulSoup"
      ]
     },
     "execution_count": 16,
     "metadata": {},
     "output_type": "execute_result"
    }
   ],
   "source": [
    "type(soup)"
   ]
  },
  {
   "cell_type": "code",
   "execution_count": 18,
   "id": "730c49cf",
   "metadata": {},
   "outputs": [],
   "source": [
    "result = soup.select('div > strong.tit_thumb > a.link_txt')"
   ]
  },
  {
   "cell_type": "code",
   "execution_count": 22,
   "id": "0d0035c2",
   "metadata": {},
   "outputs": [],
   "source": [
    "tag = result[0]"
   ]
  },
  {
   "cell_type": "code",
   "execution_count": 23,
   "id": "ede85130",
   "metadata": {},
   "outputs": [
    {
     "data": {
      "text/plain": [
       "'이주열 한은 총재 \"연내 금리인상\" 첫 공식화..물가·가계빚 우려'"
      ]
     },
     "execution_count": 23,
     "metadata": {},
     "output_type": "execute_result"
    }
   ],
   "source": [
    "tag.text"
   ]
  },
  {
   "cell_type": "code",
   "execution_count": 24,
   "id": "e00e134e",
   "metadata": {},
   "outputs": [
    {
     "data": {
      "text/plain": [
       "'https://news.v.daum.net/v/20210624162732510'"
      ]
     },
     "execution_count": 24,
     "metadata": {},
     "output_type": "execute_result"
    }
   ],
   "source": [
    "tag['href']"
   ]
  },
  {
   "cell_type": "code",
   "execution_count": 39,
   "id": "3dff45cd",
   "metadata": {},
   "outputs": [
    {
     "data": {
      "text/plain": [
       "[['이주열 한은 총재 \"연내 금리인상\" 첫 공식화..물가·가계빚 우려',\n",
       "  'https://news.v.daum.net/v/20210624162732510'],\n",
       " ['재산권 침해 논란에 국토부·서울시 \"조합원 지위 제한, 소급·일괄적용 아냐\"',\n",
       "  'https://news.v.daum.net/v/20210624161729105'],\n",
       " ['삼성·현대차 등 금융복합기업 감독 본격화..3년마다 위험평가',\n",
       "  'https://news.v.daum.net/v/20210624161440968'],\n",
       " ['\\'급식 몰아주기\\'에 사상 최대 과징금..삼성 \"행정소송할 것\"',\n",
       "  'https://news.v.daum.net/v/20210624160716684'],\n",
       " ['금투협 채권포럼..\"통화정책 정상화 임박, 만기별 금리 차별화\"',\n",
       "  'https://news.v.daum.net/v/20210624160022231']]"
      ]
     },
     "execution_count": 39,
     "metadata": {},
     "output_type": "execute_result"
    }
   ],
   "source": [
    "contents = []\n",
    "for tag in result:\n",
    "    title = tag.text.strip()\n",
    "    link = tag['href'].strip()\n",
    "    content = [title, link]\n",
    "    contents.append(content)\n",
    "    \n",
    "contents"
   ]
  },
  {
   "cell_type": "code",
   "execution_count": 40,
   "id": "58c1190e",
   "metadata": {},
   "outputs": [],
   "source": [
    "import pandas "
   ]
  },
  {
   "cell_type": "code",
   "execution_count": 41,
   "id": "c7d0cc2b",
   "metadata": {},
   "outputs": [],
   "source": [
    "pd = pandas.DataFrame(contents, columns = ['Title','Link'])"
   ]
  },
  {
   "cell_type": "code",
   "execution_count": 42,
   "id": "764b8de0",
   "metadata": {},
   "outputs": [],
   "source": [
    "pd.to_excel('./saves/economics01.xlsx', index = False)"
   ]
  },
  {
   "cell_type": "code",
   "execution_count": null,
   "id": "4a4a46da",
   "metadata": {},
   "outputs": [],
   "source": []
  }
 ],
 "metadata": {
  "kernelspec": {
   "display_name": "Python 3",
   "language": "python",
   "name": "python3"
  },
  "language_info": {
   "codemirror_mode": {
    "name": "ipython",
    "version": 3
   },
   "file_extension": ".py",
   "mimetype": "text/x-python",
   "name": "python",
   "nbconvert_exporter": "python",
   "pygments_lexer": "ipython3",
   "version": "3.9.5"
  }
 },
 "nbformat": 4,
 "nbformat_minor": 5
}
