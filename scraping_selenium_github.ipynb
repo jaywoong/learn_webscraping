{
 "cells": [
  {
   "cell_type": "code",
   "execution_count": 1,
   "id": "9f3d0874",
   "metadata": {},
   "outputs": [],
   "source": [
    "from selenium import webdriver"
   ]
  },
  {
   "cell_type": "code",
   "execution_count": 2,
   "id": "18f30bf8",
   "metadata": {},
   "outputs": [],
   "source": [
    "browser = webdriver.Chrome('./chromedriver.exe')"
   ]
  },
  {
   "cell_type": "code",
   "execution_count": 3,
   "id": "332399b2",
   "metadata": {},
   "outputs": [],
   "source": [
    "browser.get('https://github.com/login')"
   ]
  },
  {
   "cell_type": "code",
   "execution_count": 4,
   "id": "020f25c2",
   "metadata": {},
   "outputs": [],
   "source": [
    "browser.find_elements_by_css_selector('input#login_field')[0].send_keys('jaewoong9192@gmail.com')"
   ]
  },
  {
   "cell_type": "code",
   "execution_count": 5,
   "id": "0bdd5ace",
   "metadata": {},
   "outputs": [],
   "source": [
    "browser.find_elements_by_css_selector('input#password')[0].send_keys('password')\n",
    "\n",
    "browser.find_elements_by_css_selector('input[type=\"submit\"]')[0].click()"
   ]
  },
  {
   "cell_type": "code",
   "execution_count": 6,
   "id": "170924d1",
   "metadata": {},
   "outputs": [],
   "source": [
    "browser.get('https://github.com/jaywoong/learn_webscraping')"
   ]
  },
  {
   "cell_type": "code",
   "execution_count": 7,
   "id": "33e1b08f",
   "metadata": {},
   "outputs": [],
   "source": [
    "from bs4 import BeautifulSoup"
   ]
  },
  {
   "cell_type": "code",
   "execution_count": 11,
   "id": "a0873f10",
   "metadata": {},
   "outputs": [],
   "source": [
    "html = BeautifulSoup(browser.page_source, 'html.parser')"
   ]
  },
  {
   "cell_type": "code",
   "execution_count": 12,
   "id": "4a6cac4b",
   "metadata": {},
   "outputs": [
    {
     "data": {
      "text/plain": [
       "(bs4.element.ResultSet, 17)"
      ]
     },
     "execution_count": 12,
     "metadata": {},
     "output_type": "execute_result"
    }
   ],
   "source": [
    "tags = html.select('div[role=\"row\"].Box-row')\n",
    "type(tags), len(tags)"
   ]
  },
  {
   "cell_type": "code",
   "execution_count": null,
   "id": "a2631226",
   "metadata": {},
   "outputs": [],
   "source": []
  }
 ],
 "metadata": {
  "kernelspec": {
   "display_name": "Python 3",
   "language": "python",
   "name": "python3"
  },
  "language_info": {
   "codemirror_mode": {
    "name": "ipython",
    "version": 3
   },
   "file_extension": ".py",
   "mimetype": "text/x-python",
   "name": "python",
   "nbconvert_exporter": "python",
   "pygments_lexer": "ipython3",
   "version": "3.9.5"
  }
 },
 "nbformat": 4,
 "nbformat_minor": 5
}
